{
  "cells": [
    {
      "cell_type": "markdown",
      "metadata": {
        "id": "view-in-github",
        "colab_type": "text"
      },
      "source": [
        "<a href=\"https://colab.research.google.com/github/fredMelchior/DIO-Python/blob/colab-Flask-API/Flask_DIO.ipynb\" target=\"_parent\"><img src=\"https://colab.research.google.com/assets/colab-badge.svg\" alt=\"Open In Colab\"/></a>"
      ]
    },
    {
      "cell_type": "code",
      "execution_count": null,
      "metadata": {
        "id": "rmEd-j9pDp_p"
      },
      "outputs": [],
      "source": [
        "!pip install flask\n",
        "!pip install flask-ngrok"
      ]
    },
    {
      "cell_type": "code",
      "execution_count": null,
      "metadata": {
        "id": "Sw7m25i4EqLL"
      },
      "outputs": [],
      "source": [
        "from flask import *\n",
        "from flask_ngrok import run_with_ngrok\n",
        "import pandas as pd\n",
        "import random as r"
      ]
    },
    {
      "cell_type": "code",
      "execution_count": null,
      "metadata": {
        "id": "zdZmovDHIydy"
      },
      "outputs": [],
      "source": [
        "json_data = [\n",
        "  {\n",
        "    \"Number\":\"1\",\n",
        "    \"Name\":\"Mahesh\",\n",
        "    \"Age\":25,\n",
        "    \"City\":\"Bangalore\",\n",
        "    \"Country\":\"India\"\n",
        "  },\n",
        "  {\n",
        "    \"Number\":\"2\",\n",
        "    \"Name\":\"Alex\",\n",
        "    \"Age\":26,\n",
        "    \"City\":\"London\",\n",
        "    \"Country\":\"UK\"\n",
        "  },\n",
        "  {\n",
        "    \"Number\":\"3\",\n",
        "    \"Name\":\"David\",\n",
        "    \"Age\":27,\n",
        "    \"City\":\"San Francisco\",\n",
        "    \"Country\":\"USA\"\n",
        "  },\n",
        "  {\n",
        "    \"Number\":\"4\",\n",
        "    \"Name\":\"John\",\n",
        "    \"Age\":28,\n",
        "    \"City\":\"Toronto\",\n",
        "    \"Country\":\"Canada\"\n",
        "  },\n",
        "  {\n",
        "    \"Number\":\"5\",\n",
        "    \"Name\":\"Chris\",\n",
        "    \"Age\":29,\n",
        "    \"City\":\"Paris\",\n",
        "    \"Country\":\"France\"\n",
        "  }\n",
        "]"
      ]
    },
    {
      "cell_type": "code",
      "execution_count": 22,
      "metadata": {
        "colab": {
          "base_uri": "https://localhost:8080/"
        },
        "id": "REcaCj-PE7s0",
        "outputId": "373e36e8-f5a6-4c44-9f8b-e930ef99dbcf"
      },
      "outputs": [
        {
          "output_type": "stream",
          "name": "stdout",
          "text": [
            " * Serving Flask app '__main__'\n",
            " * Debug mode: off\n"
          ]
        },
        {
          "output_type": "stream",
          "name": "stderr",
          "text": [
            "INFO:werkzeug:\u001b[31m\u001b[1mWARNING: This is a development server. Do not use it in a production deployment. Use a production WSGI server instead.\u001b[0m\n",
            " * Running on http://127.0.0.1:5000\n",
            "INFO:werkzeug:\u001b[33mPress CTRL+C to quit\u001b[0m\n"
          ]
        },
        {
          "output_type": "stream",
          "name": "stdout",
          "text": [
            " * Running on http://e2f8-35-232-141-66.ngrok.io\n",
            " * Traffic stats available on http://127.0.0.1:4040\n"
          ]
        },
        {
          "output_type": "stream",
          "name": "stderr",
          "text": [
            "INFO:werkzeug:127.0.0.1 - - [20/Nov/2023 19:43:51] \"GET / HTTP/1.1\" 200 -\n",
            "INFO:werkzeug:127.0.0.1 - - [20/Nov/2023 19:43:51] \"\u001b[33mGET /favicon.ico HTTP/1.1\u001b[0m\" 404 -\n"
          ]
        }
      ],
      "source": [
        "app = Flask(__name__)\n",
        "@app.route(\"/\")\n",
        "def home():\n",
        "  return jsonify(json_data)\n",
        "\n",
        "run_with_ngrok(app)\n",
        "app.run()"
      ]
    }
  ],
  "metadata": {
    "colab": {
      "provenance": [],
      "authorship_tag": "ABX9TyN3Uex986HQz3knmWoJnmJ7",
      "include_colab_link": true
    },
    "kernelspec": {
      "display_name": "Python 3",
      "name": "python3"
    },
    "language_info": {
      "name": "python"
    }
  },
  "nbformat": 4,
  "nbformat_minor": 0
}